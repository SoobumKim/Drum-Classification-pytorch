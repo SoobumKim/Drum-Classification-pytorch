{
 "cells": [
  {
   "cell_type": "code",
   "execution_count": 2,
   "metadata": {},
   "outputs": [],
   "source": [
    "import torch\n",
    "import torch.nn as nn\n",
    "import torch.optim as optim\n",
    "from torch.utils.data import DataLoader\n",
    "import pickle\n",
    "import matplotlib.pyplot as plt\n",
    "import seaborn as sns\n",
    "import pandas as pd\n",
    "import numpy as np\n",
    "import json\n",
    "\n",
    "from data_augmentation_overview import Data_augmentation, Dataset_overview\n",
    "from data_train_valid import Data_train_valid\n",
    "\n",
    "from drumdataset_load import DrumDataset, DrumDataset_test\n",
    "\n",
    "from models import VGG19\n",
    "from models import ResNet34, ResidualBlock\n",
    "from models import EfficientNet"
   ]
  },
  {
   "cell_type": "code",
   "execution_count": 3,
   "metadata": {},
   "outputs": [],
   "source": [
    "with open('./info.json', 'r') as f:\n",
    "    info = json.load(f)\n",
    "    \n",
    "labels = info[\"labels\"]\n",
    "data_version = info[\"data_version\"]\n",
    "dataset_t_v_path = info[\"path\"][\"t_v_data\"][:-1]\n",
    "dataset_test_path = info[\"path\"][\"t_v_data\"][-1]\n",
    "data_type = info[\"data_type\"]\n",
    "data_info = info[\"data_n\"]\n",
    "data_time_path = info[\"path\"][\"time_data\"]\n",
    "data_mel_path = info[\"path\"][\"mel_data\"]\n",
    "\n",
    "vgg_para = info[\"hyperparameter\"][\"vgg\"]\n",
    "resnet_para = info[\"hyperparameter\"][\"resnet\"]\n",
    "efficientnet_para = info[\"hyperparameter\"][\"efficientnet\"]"
   ]
  },
  {
   "cell_type": "markdown",
   "metadata": {},
   "source": [
    "# Download Data Set"
   ]
  },
  {
   "cell_type": "code",
   "execution_count": 3,
   "metadata": {},
   "outputs": [
    {
     "name": "stderr",
     "output_type": "stream",
     "text": [
      "Downloading...\n",
      "From: https://drive.google.com/uc?id=1VsgbtqBhVnCDpXgp9ydW53eBkfDRq7Tf\n",
      "To: C:\\Users\\ADmin\\Desktop\\drumdataset\\drumdataset.egg\n",
      "5.06GB [07:51, 10.7MB/s]\n"
     ]
    },
    {
     "data": {
      "text/plain": [
       "'drumdataset.egg'"
      ]
     },
     "execution_count": 3,
     "metadata": {},
     "output_type": "execute_result"
    }
   ],
   "source": [
    "import gdown \n",
    "google_path = 'https://drive.google.com/uc?id=' \n",
    "file_id = '1VsgbtqBhVnCDpXgp9ydW53eBkfDRq7Tf' \n",
    "output_name = 'drumdataset.egg' \n",
    "gdown.download(google_path+file_id,output_name,quiet=False)"
   ]
  },
  {
   "cell_type": "markdown",
   "metadata": {},
   "source": [
    "# Data Augmentation"
   ]
  },
  {
   "cell_type": "markdown",
   "metadata": {},
   "source": [
    "### Generate Augmentation Folder"
   ]
  },
  {
   "cell_type": "code",
   "execution_count": 11,
   "metadata": {},
   "outputs": [],
   "source": [
    "data_augmentation = Data_augmentation(labels)"
   ]
  },
  {
   "cell_type": "code",
   "execution_count": 4,
   "metadata": {},
   "outputs": [
    {
     "name": "stdout",
     "output_type": "stream",
     "text": [
      "You already have folders\n"
     ]
    }
   ],
   "source": [
    "data_augmentation.make_aug_folders(True)"
   ]
  },
  {
   "cell_type": "code",
   "execution_count": null,
   "metadata": {},
   "outputs": [],
   "source": [
    "class_n = len(labels)\n",
    "aug_n = 3\n",
    "for i in range(class_n):\n",
    "    data_augmentation.export_data(aug_n,i)"
   ]
  },
  {
   "cell_type": "markdown",
   "metadata": {},
   "source": [
    "### Dataset Overview"
   ]
  },
  {
   "cell_type": "code",
   "execution_count": 9,
   "metadata": {},
   "outputs": [],
   "source": [
    "data_overview = Dataset_overview(labels,data_version)"
   ]
  },
  {
   "cell_type": "code",
   "execution_count": 10,
   "metadata": {
    "scrolled": false
   },
   "outputs": [
    {
     "data": {
      "text/html": [
       "<div>\n",
       "<style scoped>\n",
       "    .dataframe tbody tr th:only-of-type {\n",
       "        vertical-align: middle;\n",
       "    }\n",
       "\n",
       "    .dataframe tbody tr th {\n",
       "        vertical-align: top;\n",
       "    }\n",
       "\n",
       "    .dataframe thead th {\n",
       "        text-align: right;\n",
       "    }\n",
       "</style>\n",
       "<table border=\"1\" class=\"dataframe\">\n",
       "  <thead>\n",
       "    <tr style=\"text-align: right;\">\n",
       "      <th></th>\n",
       "      <th>dataset_v1</th>\n",
       "      <th>dataset_aug</th>\n",
       "      <th>dataset_v2</th>\n",
       "      <th>dataset_v3</th>\n",
       "      <th>dataset_v4</th>\n",
       "    </tr>\n",
       "  </thead>\n",
       "  <tbody>\n",
       "    <tr>\n",
       "      <th>CH</th>\n",
       "      <td>440</td>\n",
       "      <td>1320</td>\n",
       "      <td>2415</td>\n",
       "      <td>948</td>\n",
       "      <td>110</td>\n",
       "    </tr>\n",
       "    <tr>\n",
       "      <th>B+CH</th>\n",
       "      <td>440</td>\n",
       "      <td>1320</td>\n",
       "      <td>1731</td>\n",
       "      <td>593</td>\n",
       "      <td>110</td>\n",
       "    </tr>\n",
       "    <tr>\n",
       "      <th>OH</th>\n",
       "      <td>440</td>\n",
       "      <td>1320</td>\n",
       "      <td>636</td>\n",
       "      <td>461</td>\n",
       "      <td>110</td>\n",
       "    </tr>\n",
       "    <tr>\n",
       "      <th>S+CH</th>\n",
       "      <td>440</td>\n",
       "      <td>1320</td>\n",
       "      <td>1084</td>\n",
       "      <td>309</td>\n",
       "      <td>110</td>\n",
       "    </tr>\n",
       "    <tr>\n",
       "      <th>S+OH</th>\n",
       "      <td>438</td>\n",
       "      <td>1314</td>\n",
       "      <td>313</td>\n",
       "      <td>370</td>\n",
       "      <td>110</td>\n",
       "    </tr>\n",
       "    <tr>\n",
       "      <th>B+OH</th>\n",
       "      <td>440</td>\n",
       "      <td>1320</td>\n",
       "      <td>469</td>\n",
       "      <td>391</td>\n",
       "      <td>110</td>\n",
       "    </tr>\n",
       "    <tr>\n",
       "      <th>B</th>\n",
       "      <td>440</td>\n",
       "      <td>1320</td>\n",
       "      <td>105</td>\n",
       "      <td>282</td>\n",
       "      <td>110</td>\n",
       "    </tr>\n",
       "    <tr>\n",
       "      <th>S</th>\n",
       "      <td>440</td>\n",
       "      <td>1320</td>\n",
       "      <td>88</td>\n",
       "      <td>134</td>\n",
       "      <td>110</td>\n",
       "    </tr>\n",
       "    <tr>\n",
       "      <th>R</th>\n",
       "      <td>440</td>\n",
       "      <td>1320</td>\n",
       "      <td>661</td>\n",
       "      <td>283</td>\n",
       "      <td>110</td>\n",
       "    </tr>\n",
       "    <tr>\n",
       "      <th>B+R</th>\n",
       "      <td>440</td>\n",
       "      <td>1320</td>\n",
       "      <td>473</td>\n",
       "      <td>236</td>\n",
       "      <td>110</td>\n",
       "    </tr>\n",
       "    <tr>\n",
       "      <th>S+R</th>\n",
       "      <td>440</td>\n",
       "      <td>1320</td>\n",
       "      <td>392</td>\n",
       "      <td>154</td>\n",
       "      <td>110</td>\n",
       "    </tr>\n",
       "    <tr>\n",
       "      <th>B+C</th>\n",
       "      <td>435</td>\n",
       "      <td>1305</td>\n",
       "      <td>493</td>\n",
       "      <td>175</td>\n",
       "      <td>110</td>\n",
       "    </tr>\n",
       "    <tr>\n",
       "      <th>rest</th>\n",
       "      <td>1040</td>\n",
       "      <td>3120</td>\n",
       "      <td>203</td>\n",
       "      <td>137</td>\n",
       "      <td>260</td>\n",
       "    </tr>\n",
       "    <tr>\n",
       "      <th>MT</th>\n",
       "      <td>877</td>\n",
       "      <td>2631</td>\n",
       "      <td>63</td>\n",
       "      <td>35</td>\n",
       "      <td>220</td>\n",
       "    </tr>\n",
       "    <tr>\n",
       "      <th>S+B+CH</th>\n",
       "      <td>440</td>\n",
       "      <td>1320</td>\n",
       "      <td>220</td>\n",
       "      <td>116</td>\n",
       "      <td>110</td>\n",
       "    </tr>\n",
       "    <tr>\n",
       "      <th>FT</th>\n",
       "      <td>440</td>\n",
       "      <td>1320</td>\n",
       "      <td>17</td>\n",
       "      <td>34</td>\n",
       "      <td>110</td>\n",
       "    </tr>\n",
       "    <tr>\n",
       "      <th>S+FT</th>\n",
       "      <td>440</td>\n",
       "      <td>1320</td>\n",
       "      <td>70</td>\n",
       "      <td>47</td>\n",
       "      <td>110</td>\n",
       "    </tr>\n",
       "    <tr>\n",
       "      <th>S+B</th>\n",
       "      <td>438</td>\n",
       "      <td>1314</td>\n",
       "      <td>1</td>\n",
       "      <td>33</td>\n",
       "      <td>110</td>\n",
       "    </tr>\n",
       "    <tr>\n",
       "      <th>S+C</th>\n",
       "      <td>438</td>\n",
       "      <td>1314</td>\n",
       "      <td>186</td>\n",
       "      <td>34</td>\n",
       "      <td>110</td>\n",
       "    </tr>\n",
       "    <tr>\n",
       "      <th>S+B+R</th>\n",
       "      <td>437</td>\n",
       "      <td>1311</td>\n",
       "      <td>0</td>\n",
       "      <td>33</td>\n",
       "      <td>110</td>\n",
       "    </tr>\n",
       "    <tr>\n",
       "      <th>B+FT</th>\n",
       "      <td>440</td>\n",
       "      <td>1320</td>\n",
       "      <td>0</td>\n",
       "      <td>30</td>\n",
       "      <td>110</td>\n",
       "    </tr>\n",
       "    <tr>\n",
       "      <th>S+B+OH</th>\n",
       "      <td>438</td>\n",
       "      <td>1314</td>\n",
       "      <td>0</td>\n",
       "      <td>21</td>\n",
       "      <td>110</td>\n",
       "    </tr>\n",
       "    <tr>\n",
       "      <th>MT+FT</th>\n",
       "      <td>880</td>\n",
       "      <td>2640</td>\n",
       "      <td>17</td>\n",
       "      <td>18</td>\n",
       "      <td>220</td>\n",
       "    </tr>\n",
       "  </tbody>\n",
       "</table>\n",
       "</div>"
      ],
      "text/plain": [
       "        dataset_v1  dataset_aug  dataset_v2  dataset_v3  dataset_v4\n",
       "CH             440         1320        2415         948         110\n",
       "B+CH           440         1320        1731         593         110\n",
       "OH             440         1320         636         461         110\n",
       "S+CH           440         1320        1084         309         110\n",
       "S+OH           438         1314         313         370         110\n",
       "B+OH           440         1320         469         391         110\n",
       "B              440         1320         105         282         110\n",
       "S              440         1320          88         134         110\n",
       "R              440         1320         661         283         110\n",
       "B+R            440         1320         473         236         110\n",
       "S+R            440         1320         392         154         110\n",
       "B+C            435         1305         493         175         110\n",
       "rest          1040         3120         203         137         260\n",
       "MT             877         2631          63          35         220\n",
       "S+B+CH         440         1320         220         116         110\n",
       "FT             440         1320          17          34         110\n",
       "S+FT           440         1320          70          47         110\n",
       "S+B            438         1314           1          33         110\n",
       "S+C            438         1314         186          34         110\n",
       "S+B+R          437         1311           0          33         110\n",
       "B+FT           440         1320           0          30         110\n",
       "S+B+OH         438         1314           0          21         110\n",
       "MT+FT          880         2640          17          18         220"
      ]
     },
     "execution_count": 10,
     "metadata": {},
     "output_type": "execute_result"
    }
   ],
   "source": [
    "data_overview.overview()"
   ]
  },
  {
   "cell_type": "markdown",
   "metadata": {},
   "source": [
    "### Confirm all of Dataset Image Size"
   ]
  },
  {
   "cell_type": "code",
   "execution_count": 25,
   "metadata": {},
   "outputs": [
    {
     "name": "stdout",
     "output_type": "stream",
     "text": [
      "All images size is (256,384,3)\n"
     ]
    }
   ],
   "source": [
    "data_overview.confirm_size()"
   ]
  },
  {
   "cell_type": "markdown",
   "metadata": {},
   "source": [
    "# Training and Validation Dataset "
   ]
  },
  {
   "cell_type": "code",
   "execution_count": 7,
   "metadata": {},
   "outputs": [],
   "source": [
    "data_t_v = Data_train_valid(labels,dataset_t_v_path,data_type,data_time_path,data_mel_path)"
   ]
  },
  {
   "cell_type": "markdown",
   "metadata": {},
   "source": [
    "### Generate Training and Validation Folders"
   ]
  },
  {
   "cell_type": "code",
   "execution_count": 8,
   "metadata": {},
   "outputs": [
    {
     "name": "stdout",
     "output_type": "stream",
     "text": [
      "Complete folders generation\n"
     ]
    }
   ],
   "source": [
    "data_t_v.make_folders(status=True)"
   ]
  },
  {
   "cell_type": "markdown",
   "metadata": {},
   "source": [
    "### Generate Training and Validation Data"
   ]
  },
  {
   "cell_type": "code",
   "execution_count": 9,
   "metadata": {
    "scrolled": false
   },
   "outputs": [
    {
     "name": "stdout",
     "output_type": "stream",
     "text": [
      "Label- CH : train- 1202, valid- 118\n",
      "Label- B+CH : train- 1202, valid- 118\n",
      "Label- OH : train- 1202, valid- 118\n",
      "Label- S+CH : train- 1202, valid- 118\n",
      "Label- S+OH : train- 1200, valid- 120\n",
      "Label- B+OH : train- 1202, valid- 118\n",
      "Label- B : train- 1200, valid- 120\n",
      "Label- S : train- 1200, valid- 120\n",
      "Label- R : train- 1202, valid- 118\n",
      "Label- B+R : train- 1202, valid- 118\n",
      "Label- S+R : train- 1200, valid- 120\n",
      "Label- B+C : train- 1200, valid- 120\n",
      "Label- rest : train- 1200, valid- 120\n",
      "Label- MT : train- 1200, valid- 120\n",
      "Label- S+B+CH : train- 1200, valid- 120\n",
      "Label- FT : train- 1200, valid- 120\n",
      "Label- S+FT : train- 1200, valid- 120\n",
      "Label- S+B : train- 1200, valid- 120\n",
      "Label- S+C : train- 1200, valid- 120\n",
      "Label- S+B+R : train- 1200, valid- 120\n",
      "Label- B+FT : train- 1200, valid- 120\n",
      "Label- S+B+OH : train- 1200, valid- 120\n",
      "Label- MT+FT : train- 1200, valid- 120\n"
     ]
    }
   ],
   "source": [
    "data_t_v.gen_t_v(data_info)"
   ]
  },
  {
   "cell_type": "markdown",
   "metadata": {},
   "source": [
    "# Train and Validate - VGG19, ResNet34, EfficientNet-B0, B1, B2"
   ]
  },
  {
   "cell_type": "code",
   "execution_count": 3,
   "metadata": {},
   "outputs": [],
   "source": [
    "train_dataset = DrumDataset(labels,train = True, dtype = 'mel')\n",
    "valid_dataset = DrumDataset(labels,train = False, dtype = 'mel')\n",
    "\n",
    "train_loader = DataLoader(train_dataset, batch_size = 8, shuffle = True, pin_memory = True)\n",
    "valid_loader = DataLoader(valid_dataset, batch_size = 8, shuffle = True, pin_memory = True)\n",
    "\n",
    "del train_dataset\n",
    "del valid_dataset"
   ]
  },
  {
   "cell_type": "code",
   "execution_count": null,
   "metadata": {},
   "outputs": [],
   "source": [
    "device = torch.device(\"cuda:0\" if torch.cuda.is_available() else \"cpu\")\n",
    "net = EfficientNet.from_name('efficientnet-b0',in_channels=3, num_classes = 23) # VGG19(in_channel=4) // ResNet34(ResidualBlock, resnet_para[2], in_channel=4) // EfficientNet.from_name('efficientnet-b\"n\"',in_channels=4, num_classes = 23)\n",
    "net.train()\n",
    "net.to(device)\n",
    "\n",
    "criterion = nn.CrossEntropyLoss().cuda()\n",
    "optimizer = optim.Adam(net.parameters(),lr=efficientnet_para[0])\n",
    "decayRate = efficientnet_para[1]\n",
    "lr_scheduler = torch.optim.lr_scheduler.ExponentialLR(optimizer=optimizer, gamma=decayRate)\n",
    "\n",
    "iteration = 0\n",
    "iterations = []\n",
    "acc_trains = []\n",
    "loss_trains = []\n",
    "acc_valids = []\n",
    "loss_valids = []\n",
    "\n",
    "correct_valid = 0\n",
    "total_valid = 0\n",
    "correct_train = 0\n",
    "total_train = 0\n",
    "\n",
    "\n",
    "for epoch in range(40):  # loop over the dataset multiple times\n",
    "    running_loss_train = 0.0\n",
    "\n",
    "    for i, data in enumerate(train_loader, 0):\n",
    "        # get the inputs\n",
    "        net.train()\n",
    "        input_train, label_train = data\n",
    "        del data\n",
    "        input_train, label_train = input_train.to(device).float(), label_train.to(device).long()\n",
    "        # zero the parameter gradients\n",
    "        optimizer.zero_grad()\n",
    "        pred_train = net(input_train)\n",
    "        #del input_train\n",
    "        loss_train = criterion(pred_train, label_train)\n",
    "\n",
    "        loss_train.backward()\n",
    "        optimizer.step()\n",
    "        \n",
    "        _, p_train = torch.max(pred_train, 1)\n",
    "        correct_train += torch.sum(p_train == label_train)\n",
    "        total_train += len(label_train)\n",
    "            \n",
    "        iteration += 1\n",
    "        # print statistics\n",
    "        running_loss_train += loss_train.item()\n",
    "        \n",
    "        if i % 400 == 399:    # size of mini-batches (8) (per 400 iteration)  \n",
    "            acc_train = 100*correct_train/total_train\n",
    "        \n",
    "            net.eval()\n",
    "            with torch.no_grad():\n",
    "                running_loss_valid = 0.0\n",
    "                for j, data in enumerate(valid_loader):\n",
    "                    input_valid, label_valid = data\n",
    "                    del data\n",
    "                    input_valid, label_valid = input_valid.to(device).float(), label_valid.to(device).long()\n",
    "\n",
    "                    pred_valid = net(input_valid)\n",
    "                    del input_valid\n",
    "\n",
    "                    loss_valid = criterion(pred_valid, label_valid)\n",
    "                    running_loss_valid += loss_valid.item()\n",
    "                    _, p_valid = torch.max(pred_valid, 1)\n",
    "                    \n",
    "                    correct_valid += torch.sum(p_valid == label_valid)\n",
    "                    total_valid += len(label_valid)\n",
    "                    \n",
    "                acc_valid = 100*correct_valid/total_valid\n",
    "                del correct_valid, total_valid\n",
    "                acc_valids.append(acc_valid)\n",
    "                loss_valids.append(running_loss_valid/j)\n",
    "                \n",
    "            acc_trains.append(acc_train)\n",
    "            loss_trains.append(running_loss_train/400)\n",
    "            \n",
    "            iterations.append(iteration)\n",
    "            \n",
    "            print('[%d, %5d] loss_t: %.3f, accuracy_t: %.3f, loss_v: %.3f, accuracy_v: %.3f - iteration(400) : %d' %\n",
    "                  (epoch + 1, i + 1, running_loss_train / 400, acc_train, running_loss_valid/j, acc_valid, iteration // 400))\n",
    "            \n",
    "            correct_train = 0\n",
    "            total_train = 0\n",
    "            correct_valid = 0\n",
    "            total_valid = 0\n",
    "            running_loss_train = 0.0\n",
    "            running_loss_valid = 0.0\n",
    "            \n",
    "            if epoch >= 2:\n",
    "                save_path = \"E:/efficientnet_b0_result_epoch_\"+str(epoch)+\"_\"+ str(iteration // 400) +\".pth\"\n",
    "            else:\n",
    "                save_path = \"E:/efficientnet_b0_result.pth\"\n",
    "            torch.save(net.state_dict(), save_path)\n",
    "            \n",
    "    lr_scheduler.step()\n",
    "    \n",
    "print('Finished Training')"
   ]
  },
  {
   "cell_type": "code",
   "execution_count": 8,
   "metadata": {},
   "outputs": [
    {
     "data": {
      "text/plain": [
       "<matplotlib.legend.Legend at 0x23580073780>"
      ]
     },
     "execution_count": 8,
     "metadata": {},
     "output_type": "execute_result"
    },
    {
     "data": {
      "image/png": "[encoded data removed]",
      "text/plain": [
       "<Figure size 432x288 with 2 Axes>"
      ]
     },
     "metadata": {
      "needs_background": "light"
     },
     "output_type": "display_data"
    }
   ],
   "source": [
    "plt.subplot(2,1,1)\n",
    "plt.plot(iterations,loss_trains, color='green', linewidth=2)\n",
    "plt.plot(iterations,loss_valids, color='blue', linewidth=2)\n",
    "plt.xlabel('Iteration')\n",
    "plt.ylabel('Loss')\n",
    "#plt.xlim(0,4600*3)\n",
    "plt.legend(['Train', 'Valid'])\n",
    "\n",
    "plt.subplot(2,1,2)\n",
    "plt.plot(iterations,acc_trains, color='green', linewidth=2)\n",
    "plt.plot(iterations,acc_valids, color='blue', linewidth=2)\n",
    "plt.xlabel('Iteration')\n",
    "plt.ylabel('Accuracy')\n",
    "#plt.xlim(0,4600*3)\n",
    "plt.legend(['Train', 'Valid'])"
   ]
  },
  {
   "cell_type": "code",
   "execution_count": 6,
   "metadata": {},
   "outputs": [
    {
     "name": "stderr",
     "output_type": "stream",
     "text": [
      "C:\\Users\\ADmin\\anaconda3\\envs\\new_torch\\lib\\site-packages\\torch\\storage.py:34: FutureWarning: pickle support for Storage will be removed in 1.5. Use `torch.save` instead\n",
      "  warnings.warn(\"pickle support for Storage will be removed in 1.5. Use `torch.save` instead\", FutureWarning)\n"
     ]
    }
   ],
   "source": [
    "efficientnet_b0_loss_acc = {'iteration':iterations, 'loss_train':loss_trains, 'loss_valid':loss_valids, 'acc_train':acc_trains, 'acc_valid':acc_valids}\n",
    "with open('E:/loss,accuracy/efficientnet_b0_loss_acc.pickle','wb') as fw:\n",
    "    pickle.dump(efficientnet_b0_loss_acc, fw)\n",
    "    \n",
    "# with open('E:/loss,accuracy/efficientnet_b0_loss_acc.pickle','rb') as fr:\n",
    "#     data = pickle.load(fr)"
   ]
  },
  {
   "cell_type": "markdown",
   "metadata": {},
   "source": [
    "# Validation - VGG19, ResNet34, EfficientNet-B0, B1, B2"
   ]
  },
  {
   "cell_type": "code",
   "execution_count": 13,
   "metadata": {},
   "outputs": [],
   "source": [
    "valid_dataset = DrumDataset(labels,train = False,dtype='mel')\n",
    "valid_loader = DataLoader(valid_dataset, batch_size = 8, shuffle = True, num_workers = 0)\n",
    "\n",
    "del valid_dataset"
   ]
  },
  {
   "cell_type": "code",
   "execution_count": 17,
   "metadata": {},
   "outputs": [
    {
     "name": "stdout",
     "output_type": "stream",
     "text": [
      "Validset Top-1 Accuracy: 97.6693372177713\n",
      "Validset Top-3 Accuracy: 99.67225054624909\n"
     ]
    }
   ],
   "source": [
    "total_valid = 0\n",
    "correct_valid = 0\n",
    "correct_valid_3 = 0\n",
    "pred = []\n",
    "corr = []\n",
    "\n",
    "save_path=\"E:parameter/efficientnet_b0_result_mel_aug.pth\"\n",
    "\n",
    "net = EfficientNet.from_name('efficientnet-b0',in_channels=3, num_classes = 23)\n",
    "net.load_state_dict(torch.load(save_path))\n",
    "net.eval()\n",
    "device = torch.device(\"cuda:0\" if torch.cuda.is_available() else \"cpu\")\n",
    "net.to(device)\n",
    "\n",
    "with torch.no_grad():\n",
    "    for input_valid,label_valid in valid_loader:\n",
    "        input_valid = input_valid.cuda()\n",
    "        label_valid = label_valid.cuda()\n",
    "        input_valid = input_valid.to(\"cuda\").float()\n",
    "        label_valid = label_valid.to(\"cuda\").long()\n",
    "\n",
    "        pred_valid = net(input_valid)\n",
    "        _, predicted = torch.max(pred_valid, 1)\n",
    "        _, predicted_3 = torch.topk(pred_valid,3)\n",
    "\n",
    "        correct_valid += torch.sum(predicted == label_valid)\n",
    "        total_valid += len(label_valid)\n",
    "        \n",
    "        if len(label_valid) < 8:\n",
    "            for n,i in enumerate(label_valid): # rest bach size\n",
    "                correct_valid_3 += torch.sum(predicted_3[n] == i)\n",
    "        else:\n",
    "            for i in range(8): # bach size\n",
    "                correct_valid_3 += torch.sum(predicted_3[i] == label_valid[i])\n",
    "                \n",
    "        corr.append(label_valid.cpu().tolist())\n",
    "        pred.append(predicted.cpu().tolist())\n",
    "    \n",
    "temp = 100*correct_valid.cpu().tolist()/total_valid\n",
    "temp_3 = 100*correct_valid_3.cpu().tolist()/total_valid\n",
    "print('Validset Top-1 Accuracy: ' + str(temp))\n",
    "print('Validset Top-3 Accuracy: ' + str(temp_3))"
   ]
  },
  {
   "cell_type": "code",
   "execution_count": 18,
   "metadata": {},
   "outputs": [
    {
     "data": {
      "text/plain": [
       "<AxesSubplot:>"
      ]
     },
     "execution_count": 18,
     "metadata": {},
     "output_type": "execute_result"
    },
    {
     "data": {
      "image/png": "[encoded data removed]",
      "text/plain": [
       "<Figure size 1080x1080 with 2 Axes>"
      ]
     },
     "metadata": {
      "needs_background": "light"
     },
     "output_type": "display_data"
    }
   ],
   "source": [
    "c_p_array = np.zeros([23,23])\n",
    "\n",
    "cor = [[int(y) for y in x] for x in corr]\n",
    "for i,j in zip(cor,pred):\n",
    "    c_p_array[i,j] += 1\n",
    "\n",
    "df = pd.DataFrame(c_p_array, labels, labels)\n",
    "\n",
    "plt.figure(figsize=(15,15))\n",
    "sns.heatmap(data = df, annot=True, fmt = '.0f', linewidths=.5, cmap='RdYlGn_r')"
   ]
  },
  {
   "cell_type": "markdown",
   "metadata": {},
   "source": [
    "# Test - VGG19, ResNet34, EfficientNet-B0, B1, B2"
   ]
  },
  {
   "cell_type": "code",
   "execution_count": 19,
   "metadata": {},
   "outputs": [],
   "source": [
    "test_dataset = DrumDataset_test(labels,dataset_test_path,dtype='mel')\n",
    "test_loader = DataLoader(test_dataset, batch_size = 8, shuffle = True, num_workers = 0)\n",
    "\n",
    "del test_dataset"
   ]
  },
  {
   "cell_type": "code",
   "execution_count": 20,
   "metadata": {},
   "outputs": [
    {
     "name": "stdout",
     "output_type": "stream",
     "text": [
      "Testset Top-1 Accuracy: 93.1784107946027\n",
      "Testset Top-3 Accuracy: 98.57571214392803\n"
     ]
    }
   ],
   "source": [
    "total_test = 0\n",
    "correct_test = 0\n",
    "correct_test_3 = 0\n",
    "pred = []\n",
    "corr = []\n",
    "\n",
    "save_path=\"E:parameter/efficientnet_b0_result_mel_aug.pth\"\n",
    "\n",
    "net = EfficientNet.from_name('efficientnet-b0',in_channels=3, num_classes = 23)\n",
    "net.load_state_dict(torch.load(save_path))\n",
    "net.eval()\n",
    "net.to(device)\n",
    "\n",
    "with torch.no_grad():\n",
    "    for input_test,label_test in test_loader:\n",
    "        input_test = input_test.cuda()\n",
    "        label_test = label_test.cuda()\n",
    "        input_test = input_test.to(\"cuda\").float()\n",
    "        label_test = label_test.to(\"cuda\").long()\n",
    "\n",
    "        pred_test = net(input_test)\n",
    "        _, predicted = torch.max(pred_test, 1)\n",
    "        _, predicted_3 = torch.topk(pred_test,3)\n",
    "\n",
    "        correct_test += torch.sum(predicted == label_test)\n",
    "        total_test += len(label_test)\n",
    "        \n",
    "        if len(label_test) < 8:\n",
    "            for n,i in enumerate(label_test): # rest bach size\n",
    "                correct_test_3 += torch.sum(predicted_3[n] == i)\n",
    "        else:\n",
    "            for i in range(8): # bach size\n",
    "                correct_test_3 += torch.sum(predicted_3[i] == label_test[i])\n",
    "                \n",
    "        corr.append(label_test.cpu().tolist())\n",
    "        pred.append(predicted.cpu().tolist())\n",
    "    \n",
    "temp = 100*correct_test.cpu().tolist()/total_test\n",
    "temp_3 = 100*correct_test_3.cpu().tolist()/total_test\n",
    "print('Testset Top-1 Accuracy: ' + str(temp))\n",
    "print('Testset Top-3 Accuracy: ' + str(temp_3))"
   ]
  },
  {
   "cell_type": "code",
   "execution_count": 21,
   "metadata": {},
   "outputs": [
    {
     "data": {
      "text/plain": [
       "<AxesSubplot:>"
      ]
     },
     "execution_count": 21,
     "metadata": {},
     "output_type": "execute_result"
    },
    {
     "data": {
      "image/png": "[encoded data removed]",
      "text/plain": [
       "<Figure size 1080x1080 with 2 Axes>"
      ]
     },
     "metadata": {
      "needs_background": "light"
     },
     "output_type": "display_data"
    }
   ],
   "source": [
    "c_p_array = np.zeros([23,23])\n",
    "\n",
    "cor = [[int(y) for y in x] for x in corr]\n",
    "for i,j in zip(cor,pred):\n",
    "    c_p_array[i,j] += 1\n",
    "\n",
    "df = pd.DataFrame(c_p_array, labels, labels)\n",
    "\n",
    "plt.figure(figsize=(15,15))\n",
    "sns.heatmap(data = df, annot=True, fmt = '.0f', linewidths=.5, cmap='RdYlGn_r')"
   ]
  }
 ],
 "metadata": {
  "kernelspec": {
   "display_name": "new_torch",
   "language": "python",
   "name": "new_torch"
  },
  "language_info": {
   "codemirror_mode": {
    "name": "ipython",
    "version": 3
   },
   "file_extension": ".py",
   "mimetype": "text/x-python",
   "name": "python",
   "nbconvert_exporter": "python",
   "pygments_lexer": "ipython3",
   "version": "3.6.10"
  }
 },
 "nbformat": 4,
 "nbformat_minor": 4
}
