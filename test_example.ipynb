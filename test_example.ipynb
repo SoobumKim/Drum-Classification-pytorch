{
 "cells": [
  {
   "cell_type": "code",
   "execution_count": 1,
   "metadata": {},
   "outputs": [],
   "source": [
    "import librosa\n",
    "import librosa.display\n",
    "import matplotlib.pyplot as plt"
   ]
  },
  {
   "cell_type": "code",
   "execution_count": 2,
   "metadata": {},
   "outputs": [],
   "source": [
    "music, sr = librosa.load('./test/bounce_test.wav')"
   ]
  },
  {
   "cell_type": "code",
   "execution_count": 12,
   "metadata": {},
   "outputs": [],
   "source": [
    "crop_intv = int(60/126/2*sr) # tempo - 126 BPM\n",
    "crop_intv_2 = int(60/160/2*sr)"
   ]
  },
  {
   "cell_type": "code",
   "execution_count": 4,
   "metadata": {},
   "outputs": [],
   "source": [
    "test = music[0:crop_intv]"
   ]
  },
  {
   "cell_type": "code",
   "execution_count": 5,
   "metadata": {},
   "outputs": [],
   "source": [
    "# Make folder before generation test image\n",
    "# When new testset is saved, its name must append '_' to end like 'name_.jpg'"
   ]
  },
  {
   "cell_type": "code",
   "execution_count": 13,
   "metadata": {},
   "outputs": [
    {
     "name": "stderr",
     "output_type": "stream",
     "text": [
      "C:\\Users\\ADmin\\anaconda3\\envs\\new_torch\\lib\\site-packages\\librosa\\display.py:974: MatplotlibDeprecationWarning: The 'basey' parameter of __init__() has been renamed 'base' since Matplotlib 3.3; support for the old name will be dropped two minor releases later.\n",
      "  scaler(mode, **kwargs)\n",
      "C:\\Users\\ADmin\\anaconda3\\envs\\new_torch\\lib\\site-packages\\librosa\\display.py:974: MatplotlibDeprecationWarning: The 'linthreshy' parameter of __init__() has been renamed 'linthresh' since Matplotlib 3.3; support for the old name will be dropped two minor releases later.\n",
      "  scaler(mode, **kwargs)\n"
     ]
    }
   ],
   "source": [
    "for i in range(16):\n",
    "    cropped = music[crop_intv*i:crop_intv*(i+1)]\n",
    "    cropped = cropped[0:crop_intv_2]\n",
    "    plt.figure(figsize=(6.898,4.719))\n",
    "    plt.plot(cropped)\n",
    "    plt.ylim(-0.7,0.7)\n",
    "    plt.xlim(0,len(cropped))\n",
    "    plt.axis('off')\n",
    "    plt.savefig(fname='./test/images/time/'+str(i)+'_.png', bbox_inches='tight', pad_inches=0)\n",
    "    plt.close()\n",
    "    \n",
    "    \n",
    "for i in range(16):\n",
    "    cropped = music[crop_intv*i:crop_intv*(i+1)]\n",
    "    cropped = cropped[0:crop_intv_2]\n",
    "    plt.figure(figsize=(6.898,4.719))\n",
    "    f_cropped=librosa.feature.melspectrogram(cropped)\n",
    "    librosa.display.specshow(librosa.power_to_db(f_cropped), cmap='jet', y_axis='mel')\n",
    "    plt.clim(-70,20)\n",
    "    plt.axis('off')\n",
    "    plt.savefig(fname='./test/images/mel/'+str(i)+'_.png', bbox_inches='tight', pad_inches=0)\n",
    "    plt.close()"
   ]
  },
  {
   "cell_type": "code",
   "execution_count": 14,
   "metadata": {},
   "outputs": [],
   "source": [
    "from drumdataset_load import DrumDataset, DrumDataset_test\n",
    "from torch.utils.data import DataLoader\n",
    "import torch\n",
    "import json\n",
    "\n",
    "from models import VGG19\n",
    "from models import ResNet34, ResidualBlock\n",
    "from models import EfficientNet"
   ]
  },
  {
   "cell_type": "code",
   "execution_count": 15,
   "metadata": {},
   "outputs": [],
   "source": [
    "with open('./info.json', 'r') as f:\n",
    "    info = json.load(f)\n",
    "    \n",
    "labels = info[\"labels\"]\n",
    "data_version = info[\"data_version\"]\n",
    "dataset_t_v_path = info[\"path\"][\"t_v_data\"][:-1]\n",
    "#dataset_test_path = info[\"path\"][\"t_v_data\"][-1]\n",
    "data_type = info[\"data_type\"]\n",
    "data_info = info[\"data_n\"]\n",
    "data_time_path = info[\"path\"][\"time_data\"]\n",
    "data_mel_path = info[\"path\"][\"mel_data\"]\n",
    "\n",
    "vgg_para = info[\"hyperparameter\"][\"vgg\"]\n",
    "resnet_para = info[\"hyperparameter\"][\"resnet\"]\n",
    "efficientnet_para = info[\"hyperparameter\"][\"efficientnet\"]"
   ]
  },
  {
   "cell_type": "code",
   "execution_count": 16,
   "metadata": {},
   "outputs": [],
   "source": [
    "dataset_test_path = 'test'"
   ]
  },
  {
   "cell_type": "code",
   "execution_count": 17,
   "metadata": {},
   "outputs": [],
   "source": [
    "test_dataset = DrumDataset_test(labels,dataset_test_path,dtype='mel')\n",
    "test_loader = DataLoader(test_dataset, batch_size = 1, shuffle = False, num_workers = 0)"
   ]
  },
  {
   "cell_type": "code",
   "execution_count": 18,
   "metadata": {},
   "outputs": [
    {
     "name": "stdout",
     "output_type": "stream",
     "text": [
      "B+CH\n",
      "CH\n",
      "S\n",
      "B+CH\n",
      "CH\n",
      "CH\n",
      "S+CH\n",
      "CH\n",
      "B+CH\n",
      "CH\n",
      "S+CH\n",
      "B\n",
      "CH\n",
      "CH\n",
      "S\n",
      "CH\n"
     ]
    }
   ],
   "source": [
    "save_path=\"./parameters/parameter/efficientnet_b0_result_mel_aug.pth\"\n",
    "\n",
    "net = EfficientNet.from_name('efficientnet-b0',in_channels=3, num_classes = 23)\n",
    "device = torch.device(\"cuda:0\" if torch.cuda.is_available() else \"cpu\")\n",
    "net.load_state_dict(torch.load(save_path))\n",
    "net.eval()\n",
    "net.to(device)\n",
    "\n",
    "with torch.no_grad():\n",
    "    for input_test,_ in test_loader:\n",
    "        input_test = input_test.cuda()\n",
    "        input_test = input_test.to(\"cuda\").float()\n",
    "        \n",
    "        pred_test = net(input_test)\n",
    "        _, predicted = torch.max(pred_test, 1)\n",
    "        \n",
    "        print(labels[predicted.item()])"
   ]
  },
  {
   "cell_type": "code",
   "execution_count": null,
   "metadata": {},
   "outputs": [],
   "source": []
  }
 ],
 "metadata": {
  "kernelspec": {
   "display_name": "new_torch",
   "language": "python",
   "name": "new_torch"
  },
  "language_info": {
   "codemirror_mode": {
    "name": "ipython",
    "version": 3
   },
   "file_extension": ".py",
   "mimetype": "text/x-python",
   "name": "python",
   "nbconvert_exporter": "python",
   "pygments_lexer": "ipython3",
   "version": "3.6.10"
  }
 },
 "nbformat": 4,
 "nbformat_minor": 4
}
